{
 "cells": [
  {
   "cell_type": "markdown",
   "metadata": {},
   "source": [
    "# Using Python and SQL"
   ]
  },
  {
   "cell_type": "markdown",
   "metadata": {},
   "source": [
    "An advantage of using a popular language is the high probability that programmers before us have found solutions to our problems already. As such, there exists a Python module which allows us to interface with a PostgreSQL database, called Psycopg2.\n",
    "\n",
    "Using this module requires a quite advanced understanding of Python and SQL, so we'll start off with a very simple query and work through it step by step.\n",
    "\n",
    "Let's suppose we want to implement the following SQL query:"
   ]
  },
  {
   "cell_type": "markdown",
   "metadata": {},
   "source": [
    "<span style=\"color:orange\">**SELECT**</span> 2 + 3;"
   ]
  },
  {
   "cell_type": "markdown",
   "metadata": {},
   "source": [
    "To run this SQL query in Python, we use psycopg2 as follows:"
   ]
  },
  {
   "cell_type": "code",
   "execution_count": null,
   "metadata": {},
   "outputs": [],
   "source": [
    "import psycopg2\n",
    "\n",
    "# Establish the connection\n",
    "conn = psycopg2.connect(dbname='db', user='grok')\n",
    "cursor = conn.cursor()\n",
    "\n",
    "# Execute an SQL query and receive the output\n",
    "cursor.execute('SELECT 2 + 3;')\n",
    "records = cursor.fetchall()\n",
    "\n",
    "print(records)"
   ]
  },
  {
   "cell_type": "markdown",
   "metadata": {},
   "source": [
    "[(5,)]"
   ]
  },
  {
   "cell_type": "markdown",
   "metadata": {},
   "source": [
    "N.B. That grok is the online tool in the AstroMOOC."
   ]
  },
  {
   "cell_type": "markdown",
   "metadata": {},
   "source": [
    "And that's our expected result. Now let's look at each line in detail."
   ]
  },
  {
   "cell_type": "markdown",
   "metadata": {},
   "source": [
    "We will go through the example on the last slide step by step.\n",
    "\n",
    "**1. Establish a connection to the database**"
   ]
  },
  {
   "cell_type": "code",
   "execution_count": null,
   "metadata": {},
   "outputs": [],
   "source": [
    "conn = psycopg2.connect(dbname='db', user='grok')"
   ]
  },
  {
   "cell_type": "markdown",
   "metadata": {},
   "source": [
    "This command initialises a new database session and returns a connection object. We have to specify the name of the database and the name of the user. Note that the dbname is the name of the database, not a table in the database.\n",
    "\n",
    "Throughout this module we're calling our database 'db'. On your local machine, you would use your user account name for the user. Here we're going to use 'grok'."
   ]
  },
  {
   "cell_type": "markdown",
   "metadata": {},
   "source": [
    "**2. Create a cursor object**"
   ]
  },
  {
   "cell_type": "code",
   "execution_count": null,
   "metadata": {},
   "outputs": [],
   "source": [
    "cursor = conn.cursor()"
   ]
  },
  {
   "cell_type": "markdown",
   "metadata": {},
   "source": [
    "The cursor is the object that interfaces with the database. We can execute SQL queries and receive their output through this object. We can call the object's functions by using the dot (.) notation just like we do for modules. The two functions that we will use most often are execute and fetchall."
   ]
  },
  {
   "cell_type": "markdown",
   "metadata": {},
   "source": [
    "**3. Run a SQL query**"
   ]
  },
  {
   "cell_type": "code",
   "execution_count": null,
   "metadata": {},
   "outputs": [],
   "source": [
    "cursor.execute('SELECT 2 + 3;')"
   ]
  },
  {
   "cell_type": "markdown",
   "metadata": {},
   "source": [
    "To run a SQL query, we call the execute function, which is a function of the cursor object. This function takes the SQL query in form of a string as its argument.\n",
    "\n",
    "**4. Receive the query return**"
   ]
  },
  {
   "cell_type": "code",
   "execution_count": null,
   "metadata": {},
   "outputs": [],
   "source": [
    "records = cursor.fetchall()"
   ]
  },
  {
   "cell_type": "markdown",
   "metadata": {},
   "source": [
    "The fetchall function returns the output of the last query. When taking SQL data into Python, the data types are converted to the closest match in Python data types. We'll have a closer look at this later."
   ]
  },
  {
   "cell_type": "markdown",
   "metadata": {},
   "source": [
    "To get started with basic Psycopg2 usage, write a function called select_all which queries either our Star or Planet table in PostgreSQL and returns all the rows using the following query:"
   ]
  },
  {
   "cell_type": "markdown",
   "metadata": {},
   "source": [
    "<span style=\"color:orange\">**SELECT**</span> * <span style=\"color:orange\">**FROM**</span> Star;"
   ]
  },
  {
   "cell_type": "markdown",
   "metadata": {},
   "source": [
    "Your function should take the name of the table as a string argument, so you can call it like to access the Star table:"
   ]
  },
  {
   "cell_type": "code",
   "execution_count": null,
   "metadata": {},
   "outputs": [],
   "source": [
    ">>> select_all('Star')\n",
    "[(2713049, 5996, 0.956), (3114167, 5666, 0.677), (3115833, 5995, 0.847), ...]"
   ]
  },
  {
   "cell_type": "markdown",
   "metadata": {},
   "source": [
    "Or like this for the Planet table:"
   ]
  },
  {
   "cell_type": "code",
   "execution_count": null,
   "metadata": {},
   "outputs": [],
   "source": [
    ">>> select_all('Planet')\n",
    "[(10666592, 'K00002.01', 'Kepler-2b', 'CONFIRMED', 2.204735365, 16.39, 2025), ...]"
   ]
  },
  {
   "cell_type": "markdown",
   "metadata": {},
   "source": [
    "It should return the result of **cursor.fetchall()** directly."
   ]
  },
  {
   "cell_type": "code",
   "execution_count": null,
   "metadata": {},
   "outputs": [],
   "source": [
    "# Establish the connection\n",
    "conn = psycopg2.connect(dbname='db', user='grok')\n",
    "cursor = conn.cursor()\n",
    "\n",
    "# Define select_all function\n",
    "def select_all(Table_name):\n",
    "    query = 'SELECT * FROM ' + Table_name + ';'\n",
    "    cursor.execute(query)\n",
    "    return cursor.fetchall()"
   ]
  },
  {
   "cell_type": "markdown",
   "metadata": {},
   "source": [
    "As you've seen in the last problem, the data from SQL queries in Psycopg2 is returned in form of Python lists. In the last problem, you requested the full Star and Planet table, which returned a list of n tuples of length m, where m is the number of columns and n is the number of rows in these tables.\n",
    "\n",
    "A list of tuples cannot be used in the same way as e.g. a 2D Numpy array. For example, the following method of indexing to access the first element will not work:"
   ]
  },
  {
   "cell_type": "code",
   "execution_count": null,
   "metadata": {},
   "outputs": [],
   "source": [
    "a = [(1, 2, 3), (4, 5, 6)]\n",
    "print(a[0, 0])"
   ]
  },
  {
   "cell_type": "markdown",
   "metadata": {},
   "source": [
    "Instead, we have to use the [] operator twice: first to access the first list element, i.e. the first tuple, and then to access the first element in that tuple:"
   ]
  },
  {
   "cell_type": "code",
   "execution_count": null,
   "metadata": {},
   "outputs": [],
   "source": [
    "a = [(1, 2, 3), (4, 5, 6)]\n",
    "print(a[0][0])"
   ]
  },
  {
   "cell_type": "markdown",
   "metadata": {},
   "source": [
    "Using this indexing method, we can then access every individual data element. This allows us to, e.g. extract entire columns of the data by looping over the rows. The following code snippet shows an example which extracts the t_eff column from the full Star table and appends it to a new list:"
   ]
  },
  {
   "cell_type": "code",
   "execution_count": null,
   "metadata": {},
   "outputs": [],
   "source": [
    "import psycopg2\n",
    "\n",
    "conn = psycopg2.connect(dbname='db', user='grok')\n",
    "cursor = conn.cursor()\n",
    "cursor.execute('SELECT * FROM Star')\n",
    "records = cursor.fetchall()\n",
    "\n",
    "t_eff = []\n",
    "for row in records:\n",
    "  t_eff.append(row[1])\n",
    "\n",
    "print(t_eff)"
   ]
  },
  {
   "cell_type": "markdown",
   "metadata": {},
   "source": [
    "Now we've seen how to work with query results, we can have a closer look at the data itself. In the previous activity, we learned about different data types in SQL when we were setting up tables.\n",
    "\n",
    "How do these SQL data types get converted into Python types?\n",
    "\n",
    "Let's have a look at the Planet table's data types. We can use a query which selects all columns but only a single row:"
   ]
  },
  {
   "cell_type": "code",
   "execution_count": null,
   "metadata": {},
   "outputs": [],
   "source": [
    "+-----------+-----------+-------------+-----------+-------------+--------+------+\n",
    "| kepler_id | koi_name  | kepler_name |  status   |   period    | radius | t_eq |\n",
    "+-----------+-----------+-------------+-----------+-------------+--------+------+\n",
    "|  10666592 | K00002.01 | Kepler-2b   | CONFIRMED | 2.204735365 |  16.39 | 2025 |\n",
    "+-----------+-----------+-------------+-----------+-------------+--------+------+\n",
    "(1 row)"
   ]
  },
  {
   "cell_type": "markdown",
   "metadata": {},
   "source": [
    "In Python, this query will return a list containing a single tuple. We can loop over the entries of this tuple and call the type function to determine the data types:"
   ]
  },
  {
   "cell_type": "code",
   "execution_count": null,
   "metadata": {},
   "outputs": [],
   "source": [
    "import psycopg2\n",
    "\n",
    "conn = psycopg2.connect(dbname='db', user='grok')\n",
    "cursor = conn.cursor()\n",
    "\n",
    "cursor.execute('SELECT * FROM Planet LIMIT 1;')\n",
    "\n",
    "records = cursor.fetchall()\n",
    "\n",
    "for col in records[0]:\n",
    "    print(type(col))"
   ]
  },
  {
   "cell_type": "code",
   "execution_count": null,
   "metadata": {},
   "outputs": [],
   "source": [
    "<type 'int'>\n",
    "<type 'str'>\n",
    "<type 'str'>\n",
    "<type 'str'>\n",
    "<type 'float'>\n",
    "<type 'float'>\n",
    "<type 'int'>"
   ]
  },
  {
   "cell_type": "markdown",
   "metadata": {},
   "source": [
    "The type conversion of these types is straight-forward: SQL's SMALLINT and INTEGER get converted to Python integers, CHAR and VARCHAR to Python strings, and FLOAT to Python floats.\n",
    "\n",
    "Check out the Psycopg2 documentation when you want to learn about type conversion in more detail."
   ]
  },
  {
   "cell_type": "markdown",
   "metadata": {},
   "source": [
    "Once we have the numerical data from the database in Python, we can write them into NumPy arrays.\n",
    "\n",
    "Since we're often dealing with data of different types in databases, it is important to remember that while Python lists and tuples can hold data of different types, NumPy arrays cannot.\n",
    "\n",
    "To convert a Python list into a simple NumPy array, we must ensure that the list only contains data of one type. Other than that, SQL results can easily be loaded into NumPy arrays:"
   ]
  },
  {
   "cell_type": "code",
   "execution_count": null,
   "metadata": {},
   "outputs": [],
   "source": [
    "import psycopg2\n",
    "import numpy as np\n",
    "\n",
    "conn = psycopg2.connect(dbname='db', user='grok')\n",
    "cursor = conn.cursor()\n",
    "\n",
    "cursor.execute('SELECT radius FROM Star;')\n",
    "\n",
    "records = cursor.fetchall()\n",
    "array = np.array(records)\n",
    "\n",
    "print(array.shape)\n",
    "print(array.mean())\n",
    "print(array.std())"
   ]
  },
  {
   "cell_type": "code",
   "execution_count": null,
   "metadata": {},
   "outputs": [],
   "source": [
    "(66, 1)\n",
    "0.886863636364\n",
    "0.237456527847"
   ]
  },
  {
   "cell_type": "markdown",
   "metadata": {},
   "source": [
    "Write a function called column_stats which calculates the mean and median of a selected column in either Star or Planet table. For this, let your function take two string arguments:\n",
    "\n",
    "the name of the table;\n",
    "the name of the column.\n",
    "and have it return the mean and median (in this order) of the selected column.\n",
    "\n",
    "When you call your function on, for example, the t_eff column of the Star table, the function call and return should look like this:"
   ]
  },
  {
   "cell_type": "code",
   "execution_count": null,
   "metadata": {},
   "outputs": [],
   "source": [
    ">>> column_stats('Star', 't_eff')\n",
    "(5490.681818181818, 5634.0)"
   ]
  },
  {
   "cell_type": "markdown",
   "metadata": {},
   "source": [
    "You can compare your calculation with the pure SQL query:"
   ]
  },
  {
   "cell_type": "markdown",
   "metadata": {},
   "source": [
    "<span style=\"color:orange\">**SELECT**</span> AVG(t_eff) <span style=\"color:orange\">**FROM**</span> Star;"
   ]
  },
  {
   "cell_type": "code",
   "execution_count": null,
   "metadata": {},
   "outputs": [],
   "source": [
    "+-----------------------+\n",
    "|          avg          |\n",
    "+-----------------------+\n",
    "| 5490.6818181818181818 |\n",
    "+-----------------------+\n",
    "(1 row)"
   ]
  },
  {
   "cell_type": "code",
   "execution_count": null,
   "metadata": {},
   "outputs": [],
   "source": [
    "# My function to give column mean and median from one variable in one table (works fine)\n",
    "def column_stats(Table, variable):\n",
    "    query = 'SELECT ' + variable + ' FROM ' + Table + ';'\n",
    "    cursor.execute(query)\n",
    "    \n",
    "    records = cursor.fetchall()\n",
    "    array = np.array(records)\n",
    "    \n",
    "    return np.mean(array), np.median(array)\n",
    "\n",
    "print(column_stats('Star', 't_eff'))"
   ]
  },
  {
   "cell_type": "markdown",
   "metadata": {},
   "source": [
    "In this course you've learned two different approaches to dealing with data. Which you choose for a particular project depends on a variety of factors including the questions you're posing of the data or whether you're using a public database or catalogue.\n",
    "\n",
    "We have seen that SQL is convenient to use for a lot of things – but exactly how convenient is it? Can we do the same thing in Python?\n",
    "\n",
    "Let's go through a few problems in which we implement typical SQL queries from the previous activities in Python. We will start of with a simple query and add a new element in each problem."
   ]
  },
  {
   "cell_type": "markdown",
   "metadata": {},
   "source": [
    "Your first task is to replicate the following SQL query:"
   ]
  },
  {
   "cell_type": "code",
   "execution_count": null,
   "metadata": {},
   "outputs": [],
   "source": [
    "SELECT kepler_id, radius\n",
    "FROM Star\n",
    "WHERE radius > 1.0;"
   ]
  },
  {
   "cell_type": "markdown",
   "metadata": {},
   "source": [
    "The data is stored in stars.csv, with the kepler_id in the first column and the radius in the last.\n",
    "\n",
    "Write a function called query which takes the CSV filename as an argument and returns the data in a 2-column NumPy array. For example, this small CSV file:"
   ]
  },
  {
   "cell_type": "code",
   "execution_count": null,
   "metadata": {},
   "outputs": [],
   "source": [
    "stars.csv\n",
    "\n",
    "10666592,6350,1.991\n",
    "10682541,5339,0.847\n",
    "10797460,5850,1.04"
   ]
  },
  {
   "cell_type": "markdown",
   "metadata": {},
   "source": [
    "your **query** function should work as follows:"
   ]
  },
  {
   "cell_type": "code",
   "execution_count": null,
   "metadata": {},
   "outputs": [],
   "source": [
    ">>> query('stars.csv')\n",
    "array([[  1.06665920e+07   1.99100000e+00]\n",
    "       [  1.07974600e+07   1.04000000e+00]])"
   ]
  },
  {
   "cell_type": "markdown",
   "metadata": {},
   "source": [
    "The numerical data gets automatically converted to floats in this procedure, don't worry if it doesn't look like the SQL output."
   ]
  },
  {
   "cell_type": "markdown",
   "metadata": {},
   "source": [
    "**Hint:** You can use NumPy's loadtxt function with the optional usecols argument to read in only those columns you're interested in."
   ]
  },
  {
   "cell_type": "code",
   "execution_count": null,
   "metadata": {},
   "outputs": [],
   "source": [
    "import numpy as np\n",
    "\n",
    "# Write your query function here. \n",
    "# I used the given solution here as better than my one in its use of numpy\n",
    "def query(file_name):\n",
    "    data = np.loadtxt(file_name, delimiter=',', usecols=(0, 2)))\n",
    "    return data[data[:, 1]>1, :]"
   ]
  },
  {
   "cell_type": "markdown",
   "metadata": {},
   "source": [
    "Let's add another element to our query. Sort the resulting table in ascending order to match the result you would get with:"
   ]
  },
  {
   "cell_type": "code",
   "execution_count": null,
   "metadata": {},
   "outputs": [],
   "source": [
    "SELECT kepler_id, radius\n",
    "FROM Star\n",
    "WHERE radius > 1.0\n",
    "ORDER BY radius ASC;"
   ]
  },
  {
   "cell_type": "markdown",
   "metadata": {},
   "source": [
    "You can use your results from the last problem and then build up on that. Again, the function should be named query and it should take the filename as argument."
   ]
  },
  {
   "cell_type": "markdown",
   "metadata": {},
   "source": [
    "**Hint:**\n",
    "You can use NumPy's argsort function to solve this problem. Take a look at how it works:"
   ]
  },
  {
   "cell_type": "code",
   "execution_count": 9,
   "metadata": {},
   "outputs": [
    {
     "name": "stdout",
     "output_type": "stream",
     "text": [
      "[3 1 2 0]\n",
      "[0 1 2 3]\n"
     ]
    }
   ],
   "source": [
    "import numpy as np\n",
    "  \n",
    "a = np.array([3, 1, 2, 0])\n",
    "b = np.argsort(a)\n",
    "print(b)\n",
    "print(a[b])"
   ]
  },
  {
   "cell_type": "markdown",
   "metadata": {},
   "source": [
    "^ Nice way to index!"
   ]
  },
  {
   "cell_type": "markdown",
   "metadata": {},
   "source": [
    "My function:"
   ]
  },
  {
   "cell_type": "code",
   "execution_count": null,
   "metadata": {},
   "outputs": [],
   "source": [
    "import numpy as np\n",
    "\n",
    "# Write your query function here\n",
    "def query(file_name):\n",
    "    data = np.loadtxt(file_name, delimiter=',', usecols=(0, 2))\n",
    "    data = data[data[:, 1]>1, :]\n",
    "    return data[np.argsort(data[:, 1])]\n",
    "\n",
    "#print(query('stars.csv'))"
   ]
  },
  {
   "cell_type": "markdown",
   "metadata": {},
   "source": [
    "Let's add yet another element to our query. Join the Star table with the Planet table and calculate the size ratio, i.e. planet radius / star radius for each star-planet pair. Your query function should produce the same result as the SQL query:"
   ]
  },
  {
   "cell_type": "code",
   "execution_count": null,
   "metadata": {},
   "outputs": [],
   "source": [
    "SELECT p.radius/s.radius AS radius_ratio\n",
    "FROM Planet AS p\n",
    "INNER JOIN star AS s USING (kepler_id)\n",
    "WHERE s.radius > 1.0\n",
    "ORDER BY p.radius/s.radius ASC;"
   ]
  },
  {
   "cell_type": "markdown",
   "metadata": {},
   "source": [
    "You can use your results from the last problem and then build up on that. The function must be named query, but this time it should take two filenames as arguments, for the stars and planets.\n",
    "\n",
    "In planets.csv, the first column is the kepler_id and the second last column is the radius.\n",
    "\n",
    "Your function should be a column vector of ratios, like this:"
   ]
  },
  {
   "cell_type": "code",
   "execution_count": null,
   "metadata": {},
   "outputs": [],
   "source": [
    ">>> query('stars.csv', 'planets.csv')\n",
    "array([[  0.48798799],\n",
    "       [  0.8260447 ],\n",
    "       [  0.96209913],\n",
    "       [  1.1556384 ],\n",
    "       [  1.30403969],\n",
    "       ..."
   ]
  },
  {
   "cell_type": "markdown",
   "metadata": {},
   "source": [
    "**Hint:** You may need to use a nested loop to compare each Planet's kepler_id against each Star's kepler_id. Once you've found a match and the star's radius is larger than one, you can append the ratio to the results list or array."
   ]
  },
  {
   "cell_type": "code",
   "execution_count": null,
   "metadata": {},
   "outputs": [],
   "source": [
    "# My working function here:\n",
    "# See akuederle comment in: http://akuederle.com/create-numpy-array-with-for-loop:\n",
    "# \"The easiest way is to create a simple python list of lists and convert it to an numpy array afterwards.\"\"\n",
    "\n",
    "import numpy as np\n",
    "\n",
    "def query(fname_1, fname_2):\n",
    "  stars = np.loadtxt(fname_1, delimiter=',', usecols=(0, 2))\n",
    "  planets = np.loadtxt(fname_2, delimiter=',', usecols=(0, 5))\n",
    "  \n",
    "  # get stars with radius > 1 and sort\n",
    "  stars = stars[stars[:,1]>1, :]                \n",
    "  stars_sorted = stars[np.argsort(stars[:, 1]), :] \n",
    "  planets_sorted = planets[np.argsort(planets[:,1]),:]\n",
    "                                            \n",
    " \n",
    "  # iterate by lists as easier, then make as an array\n",
    "  # interestingly, could iterate over arrays!\n",
    "  output = []\n",
    "  for row_s in stars_sorted:\n",
    "      for row_p in planets_sorted:\n",
    "          if row_s[0] == row_p[0]:\n",
    "             output.append([row_p[1]/row_s[1]])\n",
    "  \n",
    "  output.sort()\n",
    "  z = np.asarray(output)            \n",
    "  return(z)"
   ]
  }
 ],
 "metadata": {
  "kernelspec": {
   "display_name": "Python 3",
   "language": "python",
   "name": "python3"
  },
  "language_info": {
   "codemirror_mode": {
    "name": "ipython",
    "version": 3
   },
   "file_extension": ".py",
   "mimetype": "text/x-python",
   "name": "python",
   "nbconvert_exporter": "python",
   "pygments_lexer": "ipython3",
   "version": "3.6.5"
  }
 },
 "nbformat": 4,
 "nbformat_minor": 2
}
